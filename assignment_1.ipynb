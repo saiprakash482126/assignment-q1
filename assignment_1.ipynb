{
  "nbformat": 4,
  "nbformat_minor": 0,
  "metadata": {
    "colab": {
      "provenance": []
    },
    "kernelspec": {
      "name": "python3",
      "display_name": "Python 3"
    },
    "language_info": {
      "name": "python"
    }
  },
  "cells": [
    {
      "cell_type": "markdown",
      "source": [
        "1.Create a python program to sort the given list of tuples based on integer value using a\n",
        "lambda function.\n",
        "[('Sachin Tendulkar', 34357), ('Ricky Ponting', 27483), ('Jack Kallis', 25534), ('Virat Kohli', 24936)]\n",
        "\n",
        "sol:\n",
        "\n",
        " List of tuples\n",
        "\n",
        "player_scores = [('Sachin Tendulkar', 34357), ('Ricky Ponting', 27483), ('Jack Kallis', 25534), ('Virat Kohli', 24936)]\n",
        "\n",
        " Sorting based on the second element (integer value) using a lambda function\n",
        "\n",
        "sorted_players = sorted(player_scores, key=lambda x: x[1])\n",
        "\n",
        "Displaying the sorted list\n",
        "\n",
        "print(sorted_players)\n",
        "\n",
        "output:\n",
        "\n",
        "[('Virat Kohli', 24936), ('Jack Kallis', 25534), ('Ricky Ponting', 27483), ('Sachin Tendulkar', 34357)]\n"
      ],
      "metadata": {
        "id": "0WJ1oJqpyKFE"
      }
    },
    {
      "cell_type": "markdown",
      "source": [
        "2.Write a Python Program to find the squares of all the numbers in the given list of integers using\n",
        "lambda and map functions.\n",
        "\n",
        "sol:\n",
        "\n",
        "List of integers\n",
        "\n",
        "numbers = [1, 2, 3, 4, 5]\n",
        "\n",
        " Using lambda and map to find the squares of numbers\n",
        "\n",
        "squares = list(map(lambda x: x**2, numbers))\n",
        "\n",
        " Displaying the list of squares\n",
        "\n",
        "print(squares)\n",
        "\n",
        "output:\n",
        "\n",
        "[1, 4, 9, 16, 25]\n"
      ],
      "metadata": {
        "id": "B5tGy1kdy1nq"
      }
    },
    {
      "cell_type": "markdown",
      "source": [
        "3. Write a python program to convert the given list of integers into a tuple of strings. Use map and\n",
        "lambda functions\n",
        "Given String: [1, 2, 3, 4, 5, 6, 7, 8, 9, 10]\n",
        "Expected output: ('1', '2', '3', '4', '5', '6', '7', '8', '9', '10')\n",
        "\n",
        "sol:\n",
        "\n",
        "\n",
        "Given list of integers\n",
        "\n",
        "numbers = [1, 2, 3, 4, 5, 6, 7, 8, 9, 10]\n",
        "\n",
        " Using lambda and map to convert the list of integers into a tuple of strings\n",
        "\n",
        "tuple_of_strings = tuple(map(lambda x: str(x), numbers))\n",
        "\n",
        " Displaying the tuple of strings\n",
        "\n",
        "print(tuple_of_strings)\n",
        "\n",
        "output:\n",
        "\n",
        "('1', '2', '3', '4', '5', '6', '7', '8', '9', '10')"
      ],
      "metadata": {
        "id": "KXSQVvIJzSVC"
      }
    },
    {
      "cell_type": "markdown",
      "source": [
        "4.Write a python program using reduce function to compute the product of a list containing numbers\n",
        "from 1 to 25.\n",
        "\n",
        "sol:\n",
        "\n",
        "from functools import reduce\n",
        "\n",
        "Generating a list of numbers from 1 to 25\n",
        "\n",
        "numbers = list(range(1, 26))\n",
        "\n",
        " Using reduce to compute the product of the list\n",
        "\n",
        "product = reduce(lambda x, y: x * y, numbers)\n",
        "\n",
        " Displaying the product\n",
        "\n",
        "print(product)\n",
        "\n",
        "output:\n",
        "\n",
        "15511210043330985984000000\n",
        "\n"
      ],
      "metadata": {
        "id": "11RJB0t4zorb"
      }
    },
    {
      "cell_type": "markdown",
      "source": [
        "5.Write a python program to filter the numbers in a given list that are divisible by 2 and 3 using the\n",
        "filter function.\n",
        "[2, 3, 6, 9, 27, 60, 90, 120, 55, 46]\n",
        "\n",
        "sol:\n",
        "\n",
        " Given list of numbers\n",
        "\n",
        "numbers = [2, 3, 6, 9, 27, 60, 90, 120, 55, 46]\n",
        "\n",
        " Using filter to select numbers divisible by 2 and 3\n",
        "\n",
        "filtered_numbers = list(filter(lambda x: x % 2 == 0 and x % 3 == 0, numbers))\n",
        "\n",
        " Displaying the filtered number\n",
        "\n",
        "print(filtered_numbers)\n",
        "\n",
        "output:\n",
        "\n",
        "[6, 60, 90, 120]\n"
      ],
      "metadata": {
        "id": "Bw8aCvYjz9nS"
      }
    },
    {
      "cell_type": "markdown",
      "source": [
        "6.Write a python program to find palindromes in the given list of strings using lambda and filter\n",
        "function.\n",
        "['python', 'php', 'aba', 'radar', 'level']\n",
        "\n",
        "sol:\n",
        "\n",
        " Given list of strings\n",
        "\n",
        "strings = ['python', 'php', 'aba', 'radar', 'level']\n",
        "\n",
        "Using filter and lambda to select palindromes\n",
        "\n",
        "palindromes = list(filter(lambda x: x == x[::-1], strings))\n",
        "\n",
        " Displaying the palindromes\n",
        "\n",
        "print(palindromes)\n",
        "\n",
        "ouput:\n",
        "\n",
        "['php', 'aba', 'radar', 'level']\n"
      ],
      "metadata": {
        "id": "Xrber1K_0Yvr"
      }
    }
  ]
}